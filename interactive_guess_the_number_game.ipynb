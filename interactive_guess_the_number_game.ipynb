{
  "nbformat": 4,
  "nbformat_minor": 0,
  "metadata": {
    "colab": {
      "name": "day 5  interactive guess the number game.ipynb",
      "provenance": []
    },
    "kernelspec": {
      "name": "python3",
      "display_name": "Python 3"
    },
    "language_info": {
      "name": "python"
    }
  },
  "cells": [
    {
      "cell_type": "code",
      "execution_count": null,
      "metadata": {
        "colab": {
          "base_uri": "https://localhost:8080/"
        },
        "id": "OfV9fj7lfZf1",
        "outputId": "0543362f-e259-49b8-9ad1-85361560ceeb"
      },
      "outputs": [
        {
          "output_type": "stream",
          "name": "stdout",
          "text": [
            "guess a number from 1 to 10 6\n",
            "player lose and computer wins\n"
          ]
        }
      ],
      "source": [
        "import random\n",
        "x=random.randint(1,10)\n",
        "\n",
        "y=int(input(\"guess a number from 1 to 10 \"))\n",
        "if(x==y):\n",
        "  print(\"player wins and computer lose\")\n",
        "else:\n",
        "  print(\"player lose and computer wins\")  "
      ]
    }
  ]
}