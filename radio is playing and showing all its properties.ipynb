{
  "nbformat": 4,
  "nbformat_minor": 0,
  "metadata": {
    "colab": {
      "name": "day14.ipynb",
      "provenance": [],
      "collapsed_sections": []
    },
    "kernelspec": {
      "name": "python3",
      "display_name": "Python 3"
    },
    "language_info": {
      "name": "python"
    }
  },
  "cells": [
    {
      "cell_type": "code",
      "execution_count": 2,
      "metadata": {
        "id": "WJx8TTzwGr9A"
      },
      "outputs": [],
      "source": [
        "class Radio:\n",
        "  color=''\n",
        "  brand=''\n",
        "  Acpower=''\n",
        "  headphone=''\n",
        "  power_led=''\n",
        "  mode_led=''\n",
        "  frequency=''\n",
        "  volume=''\n",
        "  \n",
        "\n",
        "  def __init__(self,color,brand):\n",
        "    print(\"your radio is ready to be played\")\n",
        "    self.color=color\n",
        "    print(\"color of my radio = \",self.color)\n",
        "    self.brand=brand\n",
        "    print(\"brand of my radio = \",self.brand)\n",
        "    \n",
        "  def power_switch(self,power_led):\n",
        "    self.power_led=power_led \n",
        "    print(\"your radio power is\",self.power_led)\n",
        "  def mode_switch(self,mode_led):\n",
        "    self.mode_led=mode_led\n",
        "    print(\"your radio mode is set to\",self.mode_led)\n",
        "  def band_tuner(self,frequency):\n",
        "    self.frequency=frequency\n",
        "    print(\"your radio frequency is set to\",self.frequency)\n",
        "\n",
        "  def volume_tuner(self,volume):\n",
        "    self.volume=volume\n",
        "    print(\"your radio volume is set to\",self.volume)\n",
        "\n",
        "\n",
        "   \n",
        " \n",
        "\n",
        "   \n",
        "\n",
        "\n",
        "\n",
        "\n",
        "\n",
        "    "
      ]
    },
    {
      "cell_type": "code",
      "source": [
        "p1=Radio('brown','philips')\n",
        "p1.power_switch('on')\n",
        "p1.mode_switch('FM')\n",
        "p1.band_tuner(112.8)\n",
        "p1.volume_tuner(8)\n",
        "p1.power_switch('off')\n",
        "\n"
      ],
      "metadata": {
        "colab": {
          "base_uri": "https://localhost:8080/"
        },
        "id": "wbgaejfkPg92",
        "outputId": "2e518b34-4f06-4d68-8590-647a2bcd7299"
      },
      "execution_count": 3,
      "outputs": [
        {
          "output_type": "stream",
          "name": "stdout",
          "text": [
            "your radio is ready to be played\n",
            "color of my radio =  brown\n",
            "brand of my radio =  philips\n",
            "your radio power is on\n",
            "your radio mode is set to FM\n",
            "your radio frequency is set to 112.8\n",
            "your radio volume is set to 8\n",
            "your radio power is off\n"
          ]
        }
      ]
    }
  ]
}