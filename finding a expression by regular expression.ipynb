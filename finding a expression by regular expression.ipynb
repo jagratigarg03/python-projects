{
  "nbformat": 4,
  "nbformat_minor": 0,
  "metadata": {
    "colab": {
      "name": "day9.ipynb",
      "provenance": [],
      "collapsed_sections": []
    },
    "kernelspec": {
      "name": "python3",
      "display_name": "Python 3"
    },
    "language_info": {
      "name": "python"
    }
  },
  "cells": [
    {
      "cell_type": "code",
      "source": [
        "import re\n"
      ],
      "metadata": {
        "id": "IYFIU6-GWX_U"
      },
      "execution_count": null,
      "outputs": []
    },
    {
      "cell_type": "code",
      "source": [
        "content = open(\"/content/simpsons_phone_book.txt\",'r')"
      ],
      "metadata": {
        "id": "QYh-AozV8BS4"
      },
      "execution_count": null,
      "outputs": []
    },
    {
      "cell_type": "code",
      "source": [
        "for line in content:\n",
        "    if (re.search('^J+[\\D][^\\n]*Neu\\ *\\d*\\-\\d*', line)):\n",
        "        print(line)"
      ],
      "metadata": {
        "colab": {
          "base_uri": "https://localhost:8080/"
        },
        "id": "gk0nRJ5t6Dr7",
        "outputId": "5e7a4d6c-369f-477d-820e-df69b6248ca1"
      },
      "execution_count": null,
      "outputs": [
        {
          "output_type": "stream",
          "name": "stdout",
          "text": [
            "Jack Neu 555-7666\n",
            "\n",
            "Jeb Neu 555-5543\n",
            "\n",
            "Jennifer Neu 555-3652\n",
            "\n"
          ]
        }
      ]
    },
    {
      "cell_type": "code",
      "source": [
        "content.close()"
      ],
      "metadata": {
        "id": "1mdZxn-U_Eze"
      },
      "execution_count": null,
      "outputs": []
    },
    {
      "cell_type": "code",
      "source": [
        ""
      ],
      "metadata": {
        "id": "Bu3hAm99_Ebf"
      },
      "execution_count": null,
      "outputs": []
    }
  ]
}