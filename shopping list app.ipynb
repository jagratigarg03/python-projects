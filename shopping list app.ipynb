{
  "nbformat": 4,
  "nbformat_minor": 0,
  "metadata": {
    "colab": {
      "name": "day4.ipynb",
      "provenance": [],
      "collapsed_sections": []
    },
    "kernelspec": {
      "name": "python3",
      "display_name": "Python 3"
    },
    "language_info": {
      "name": "python"
    }
  },
  "cells": [
    {
      "cell_type": "code",
      "execution_count": null,
      "metadata": {
        "colab": {
          "base_uri": "https://localhost:8080/"
        },
        "id": "EAspWzL3ioXt",
        "outputId": "ad362344-25c0-4fd4-a0e0-dd8e1b7f9a33"
      },
      "outputs": [
        {
          "name": "stdout",
          "output_type": "stream",
          "text": [
            "what should you pick up at the store\n",
            "add item-top\n",
            "add item-jeans\n",
            "add item-shoes\n",
            "add item-pins\n",
            "add item-books\n",
            "add item-mobiles\n",
            "add item-DONE\n"
          ]
        }
      ],
      "source": [
        "list=[]\n",
        "print(\"what should you pick up at the store\")\n",
        "while(True):\n",
        "  x=input(\"add item-\")\n",
        "  list.append(x)\n",
        "  if(x==\"DONE\"):\n",
        "    break\n",
        "    "
      ]
    },
    {
      "cell_type": "code",
      "source": [
        "\n",
        "print(\"here is your list\",list)"
      ],
      "metadata": {
        "colab": {
          "base_uri": "https://localhost:8080/"
        },
        "id": "NPMdlocTkMLr",
        "outputId": "b8721aba-a660-4762-fb13-ab3a908dd3b6"
      },
      "execution_count": null,
      "outputs": [
        {
          "output_type": "stream",
          "name": "stdout",
          "text": [
            "here is your list ['top', 'jeans', 'shoes', 'pins', 'books', 'mobiles', 'DONE']\n"
          ]
        }
      ]
    }
  ]
}